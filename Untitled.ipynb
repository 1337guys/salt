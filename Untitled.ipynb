{
 "cells": [
  {
   "cell_type": "code",
   "execution_count": 1,
   "metadata": {},
   "outputs": [
    {
     "name": "stderr",
     "output_type": "stream",
     "text": [
      "Using TensorFlow backend.\n"
     ]
    }
   ],
   "source": [
    "import pandas as pd\n",
    "import numpy as np\n",
    "import keras\n",
    "from sklearn import preprocessing\n",
    "from skimage.io import imread,imshow\n",
    "import math\n",
    "import matplotlib.pyplot as plt\n",
    "import cv2"
   ]
  },
  {
   "cell_type": "code",
   "execution_count": 2,
   "metadata": {},
   "outputs": [],
   "source": [
    "train = pd.read_csv('train.csv')\n",
    "depths = pd.read_csv('depths.csv')"
   ]
  },
  {
   "cell_type": "code",
   "execution_count": 3,
   "metadata": {},
   "outputs": [
    {
     "data": {
      "text/plain": [
       "0       575d24d81d\n",
       "1       a266a2a9df\n",
       "2       75efad62c1\n",
       "3       34e51dba6a\n",
       "4       4875705fb0\n",
       "5       782ae9b7e7\n",
       "6       9842f69f8d\n",
       "7       aa94cfb806\n",
       "8       50d3073821\n",
       "9       28f865caaa\n",
       "10      b5e1371b3b\n",
       "11      57e394bc67\n",
       "12      b45ad3932e\n",
       "13      ef51bbcde7\n",
       "14      d4d34af4f7\n",
       "15      302ea1ac81\n",
       "16      40dcff68b3\n",
       "17      7845115d01\n",
       "18      3da729cae9\n",
       "19      d67e3a11d8\n",
       "20      b3396387a6\n",
       "21      a5471f53d8\n",
       "22      d27831fef2\n",
       "23      7faea04242\n",
       "24      9747413253\n",
       "25      b9614348f4\n",
       "26      4696bb53e6\n",
       "27      fc250f574c\n",
       "28      005b452274\n",
       "29      02117a400e\n",
       "           ...    \n",
       "3970    16207869ba\n",
       "3971    44d745a704\n",
       "3972    711c478c93\n",
       "3973    84e23dba29\n",
       "3974    e73532b450\n",
       "3975    8329ec9395\n",
       "3976    7e7276d088\n",
       "3977    0e63d9a8b4\n",
       "3978    1d80de2ec9\n",
       "3979    919bc0e2ba\n",
       "3980    5cada3d3f1\n",
       "3981    0530b67189\n",
       "3982    fb44090bc7\n",
       "3983    3c1ed5cc1f\n",
       "3984    c7f54785b8\n",
       "3985    158765ed16\n",
       "3986    3ff3881428\n",
       "3987    e8d8b35601\n",
       "3988    a7cfa30d35\n",
       "3989    917ef84e64\n",
       "3990    633c7d5c80\n",
       "3991    30082e87d9\n",
       "3992    f139be21a4\n",
       "3993    ac931ace49\n",
       "3994    cb36193e2f\n",
       "3995    9cbd5ddba4\n",
       "3996    caa039b231\n",
       "3997    1306fcee4c\n",
       "3998    48d81e93d9\n",
       "3999    edf1e6ac00\n",
       "Name: id, Length: 4000, dtype: object"
      ]
     },
     "execution_count": 3,
     "metadata": {},
     "output_type": "execute_result"
    }
   ],
   "source": [
    "# train.head(3)\n",
    "# train.describe()\n",
    "# train.shape\n",
    "train['id']"
   ]
  },
  {
   "cell_type": "code",
   "execution_count": 4,
   "metadata": {
    "scrolled": true
   },
   "outputs": [
    {
     "data": {
      "text/html": [
       "<div>\n",
       "<style scoped>\n",
       "    .dataframe tbody tr th:only-of-type {\n",
       "        vertical-align: middle;\n",
       "    }\n",
       "\n",
       "    .dataframe tbody tr th {\n",
       "        vertical-align: top;\n",
       "    }\n",
       "\n",
       "    .dataframe thead th {\n",
       "        text-align: right;\n",
       "    }\n",
       "</style>\n",
       "<table border=\"1\" class=\"dataframe\">\n",
       "  <thead>\n",
       "    <tr style=\"text-align: right;\">\n",
       "      <th></th>\n",
       "      <th>z</th>\n",
       "    </tr>\n",
       "  </thead>\n",
       "  <tbody>\n",
       "    <tr>\n",
       "      <th>count</th>\n",
       "      <td>22000.000000</td>\n",
       "    </tr>\n",
       "    <tr>\n",
       "      <th>mean</th>\n",
       "      <td>0.480477</td>\n",
       "    </tr>\n",
       "    <tr>\n",
       "      <th>std</th>\n",
       "      <td>0.219585</td>\n",
       "    </tr>\n",
       "    <tr>\n",
       "      <th>min</th>\n",
       "      <td>0.000000</td>\n",
       "    </tr>\n",
       "    <tr>\n",
       "      <th>25%</th>\n",
       "      <td>0.317895</td>\n",
       "    </tr>\n",
       "    <tr>\n",
       "      <th>50%</th>\n",
       "      <td>0.487368</td>\n",
       "    </tr>\n",
       "    <tr>\n",
       "      <th>75%</th>\n",
       "      <td>0.653684</td>\n",
       "    </tr>\n",
       "    <tr>\n",
       "      <th>max</th>\n",
       "      <td>0.956842</td>\n",
       "    </tr>\n",
       "  </tbody>\n",
       "</table>\n",
       "</div>"
      ],
      "text/plain": [
       "                  z\n",
       "count  22000.000000\n",
       "mean       0.480477\n",
       "std        0.219585\n",
       "min        0.000000\n",
       "25%        0.317895\n",
       "50%        0.487368\n",
       "75%        0.653684\n",
       "max        0.956842"
      ]
     },
     "execution_count": 4,
     "metadata": {},
     "output_type": "execute_result"
    }
   ],
   "source": [
    "depths['z'] = (depths['z'] - 50) / 950\n",
    "depths.describe()\n",
    "# depths.head(5)\n",
    "# depths.where(depths['id'] == '575d24d81d').dropna()"
   ]
  },
  {
   "cell_type": "code",
   "execution_count": 5,
   "metadata": {},
   "outputs": [],
   "source": [
    "tr=cv2.imread('train/a266a2a9df.png').mean(axis=2)\n",
    "te=cv2.imread('masks/a266a2a9df.png').mean(axis=2)"
   ]
  },
  {
   "cell_type": "code",
   "execution_count": 6,
   "metadata": {},
   "outputs": [
    {
     "ename": "SyntaxError",
     "evalue": "invalid syntax (<ipython-input-6-32d56bb144ec>, line 5)",
     "output_type": "error",
     "traceback": [
      "\u001b[0;36m  File \u001b[0;32m\"<ipython-input-6-32d56bb144ec>\"\u001b[0;36m, line \u001b[0;32m5\u001b[0m\n\u001b[0;31m    y =\u001b[0m\n\u001b[0m        ^\u001b[0m\n\u001b[0;31mSyntaxError\u001b[0m\u001b[0;31m:\u001b[0m invalid syntax\n"
     ]
    }
   ],
   "source": [
    "batch_size = train.shape[0]\n",
    "list_of_samples = train['id'].sample(batch_size) # shuffle too plz\n",
    "x_img = np.zeros((batch_size,  101**2))\n",
    "x_depth = np.zeros((batch_size,  1))\n",
    "y = np.zeros((batch_size,  101**2))\n",
    "# for i in train['id']:"
   ]
  },
  {
   "cell_type": "code",
   "execution_count": 29,
   "metadata": {},
   "outputs": [
    {
     "data": {
      "text/plain": [
       "2488    0fcbd0567b\n",
       "1034    ac5f676fa3\n",
       "773     df8c73e52b\n",
       "2648    c29c36a1e8\n",
       "969     04315b9a64\n",
       "Name: id, dtype: object"
      ]
     },
     "execution_count": 29,
     "metadata": {},
     "output_type": "execute_result"
    }
   ],
   "source": [
    "train['id'].sample(5)"
   ]
  }
 ],
 "metadata": {
  "kernelspec": {
   "display_name": "Python 3",
   "language": "python",
   "name": "python3"
  },
  "language_info": {
   "codemirror_mode": {
    "name": "ipython",
    "version": 3
   },
   "file_extension": ".py",
   "mimetype": "text/x-python",
   "name": "python",
   "nbconvert_exporter": "python",
   "pygments_lexer": "ipython3",
   "version": "3.6.6"
  }
 },
 "nbformat": 4,
 "nbformat_minor": 2
}
